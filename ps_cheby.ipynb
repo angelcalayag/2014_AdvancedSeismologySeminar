{
 "metadata": {
  "name": "",
  "signature": "sha256:0673673d49bd7483905882dcaae90aab47f981c0c226fda7c37de9906f4911cd"
 },
 "nbformat": 3,
 "nbformat_minor": 0,
 "worksheets": [
  {
   "cells": [
    {
     "cell_type": "code",
     "collapsed": false,
     "input": [
      "import numpy as np\n",
      "\n",
      "import matplotlib.pyplot as plt\n",
      "import matplotlib.backends\n",
      "plt.switch_backend(\"Tkagg\")\n",
      "\n",
      "\n",
      "# 1D wave equation with Chebyshev\n",
      "#$ requires get_cheby_matrix\n",
      "\n",
      "# parameters\n",
      "nx=125;     # space dimension\n",
      "nt=5000;    # time steps\n",
      "c=20.;      # ac. velocity\n",
      "dt=.00001;  # time increment\n",
      "it0=50;     # source time\n",
      "ncheck=50;  # checkpoint\n",
      "idisp=25;   # display frequency\n",
      "ag=.05;     # gaussian in space for source\n",
      "idisp = 30  # display frequency\n",
      "\n",
      "maxdif=-1.0\n",
      "x=np.zeros((nx+1), dtype=np.float)\n",
      "# space coordinates\n",
      "#for ix=0:nx, x(ix+1)=cos(pi*ix/nx);  end\n",
      "for ix in range(0, nx+1):\n",
      "    x[ix]=np.cos(np.pi*ix/nx)\n",
      "    maxdif=max(x[ix],x[ix-1])\n",
      "\n",
      "# Stability\n",
      "#disp(sprintf(' Stability criterium %g (pref. < 0.2) ',c*dt/abs(max(diff(x)))));\n",
      "print \"Stability criterium %g (pref. < 0.2) : \", c*dt/np.fabs(maxdif)"
     ],
     "language": "python",
     "metadata": {},
     "outputs": [
      {
       "output_type": "stream",
       "stream": "stdout",
       "text": [
        "Stability criterium %g (pref. < 0.2) :  0.000200063182097\n"
       ]
      }
     ],
     "prompt_number": 23
    },
    {
     "cell_type": "code",
     "collapsed": false,
     "input": [
      "# Frequenz\n",
      "# source and seismogram\n",
      "s=np.zeros((nt+1), dtype=np.float)\n",
      "seis=np.zeros((nt+1), dtype=np.float)\n",
      "a=input(' Give source frequency (e.g. 1000) (Hz) ')\n",
      "a=1.0/a\n",
      "# ricker wavelet period a\n",
      "t0=4*a/np.pi;\n",
      "\n",
      "for it in range(0, nt):\n",
      "    t=it*dt\n",
      "    v1=np.sqrt(np.pi)/2.0\n",
      "    v2=(1.0/a*np.pi*(t-t0))\n",
      "    v3=(1.0/a*np.pi*(t-t0))\n",
      "    v4=np.exp(-v3*v3)\n",
      "    s[it-1]=v1*v2*v4\n",
      "#    s[it]=np.sqrt(np.pi)/2.0*(1.0/a*np.pi*(t-t0))*np.exp(-(1.0/a*np.pi*(t-t0))^2)\n",
      "s=s/np.max(np.max(s))\n",
      "#s[nt+1]=0"
     ],
     "language": "python",
     "metadata": {},
     "outputs": [
      {
       "name": "stdout",
       "output_type": "stream",
       "stream": "stdout",
       "text": [
        " Give source frequency (e.g. 1000) (Hz) 1000\n"
       ]
      }
     ],
     "prompt_number": 24
    },
    {
     "cell_type": "code",
     "collapsed": false,
     "input": [
      "# initialization of space dependent fields\n",
      "p=np.zeros((nx+1), dtype=np.float)      # pressure\n",
      "lp=np.zeros((nx+1), dtype=np.float)     # pressure 1s derivative\n",
      "lp1=np.zeros((nx+1), dtype=np.float)    # pressure 2nd derivative\n",
      "pold=np.zeros((nx+1), dtype=np.float)   # p at previous time step\n",
      "pnew=np.zeros((nx+1), dtype=np.float)   # p at next time step\n",
      "\n",
      "gauss=np.zeros((nx+1), dtype=np.float)\n",
      "\n",
      "x0=-.25;\n",
      "if ag != 0:\n",
      "    gauss=np.exp(-1/(ag*ag)*(x-x0)*(x-x0))\n",
      "    gauss=gauss.transpose()"
     ],
     "language": "python",
     "metadata": {},
     "outputs": [],
     "prompt_number": 25
    },
    {
     "cell_type": "code",
     "collapsed": false,
     "input": [
      "print \" Begin time extrapolation ... \"\n",
      "\n",
      "# attempt to calculate derivative with Chebyshef\n",
      "# initialize coordinates\n",
      "cx=np.zeros((nx+1), dtype=np.float)\n",
      "dmx=np.zeros(((nx+1)*(nx+1)))\n",
      "dmx=np.arange((nx+1)*(nx+1),dtype=np.float).reshape(nx+1,nx+1)\n",
      "\n",
      "for ix in xrange(0, nx):\n",
      "    x[ix]=np.cos(np.pi*ix/nx)\n",
      "#print x\n",
      "\n",
      "# initialize derivative operators  (nx)\n",
      "cx[0]=2.0;\n",
      "cx[nx]=2.0;\n",
      "\n",
      "for i in xrange(1, nx):\n",
      "    cx[i]=1.0\n",
      "\n",
      "#    print \"cx = \"\n",
      "#    for i in xrange(0, nx+1):\n",
      "#        print \"i, cx[i]\", i, cx[i]\n",
      "\n",
      "# diagonal\n",
      "for i in range(0, nx+1):\n",
      "    for j in range(0, nx+1):\n",
      "        if i==j:\n",
      "            if i!=0:\n",
      "                if i!=nx:\n",
      "                    dmx[i,i]=-x[i]/(2.0*(1.0-x[i]*x[i]));\n",
      "        else:\n",
      "            dmx[i,j]=(cx[i]*np.power(-1,i+j))/(cx[j]*(x[i]-x[j]));\n",
      "\n",
      "    #  corners\n",
      "    dmx[0,0]=(2*nx*nx+1)/6;\n",
      "    dmx[nx,nx]=-dmx[0,0];"
     ],
     "language": "python",
     "metadata": {},
     "outputs": [
      {
       "output_type": "stream",
       "stream": "stdout",
       "text": [
        " Begin time extrapolation ... \n"
       ]
      }
     ],
     "prompt_number": 26
    },
    {
     "cell_type": "code",
     "collapsed": false,
     "input": [
      "fig=plt.figure()\n",
      "\n",
      "plt.subplot(2,2,1)\n",
      "plt.plot(np.arange(0,nt+1,1)/2,s)\n",
      "plt.title('Source time function')\n",
      "\n",
      "plt.subplot(2,2,2)\n",
      "plt.plot(x,gauss)\n",
      "plt.title(' Gauss in space')\n",
      "\n",
      "plt.subplot(2,1,2)\n",
      "plt.ylim(-a/10,a/10)\n",
      "line,=plt.plot(x,p)\n",
      "plt.xlabel('Distance (km)')\n",
      "\n",
      "fig.show()"
     ],
     "language": "python",
     "metadata": {},
     "outputs": [],
     "prompt_number": 27
    },
    {
     "cell_type": "code",
     "collapsed": false,
     "input": [
      "Ddot=np.dot(dmx,dmx)"
     ],
     "language": "python",
     "metadata": {},
     "outputs": [],
     "prompt_number": 28
    },
    {
     "cell_type": "code",
     "collapsed": false,
     "input": [
      "for it in xrange(0, nt):\n",
      "    # loop over time order\n",
      "    # 2nd derivative (D twice operated)\n",
      "    \n",
      "    #lp=D*D*p.transpose()\n",
      "    lp=np.dot(Ddot,np.transpose(p))\n",
      "    \n",
      "    if np.isnan(lp).any():\n",
      "        print \"NAN in lp at it = \", it\n",
      "        for i in xrange(0, len(lp)):\n",
      "            print \"i, lp\", i, lp[i]\n",
      "        exit()\n",
      "    \n",
      "\t# add source\n",
      "    lp=lp+gauss*s[it]\n",
      "    if np.isnan(lp).any():\n",
      "        print \"NAN in lp at it = \", it\n",
      "        #print lp; print gauss; print s\n",
      "        exit()\n",
      "\n",
      "    pnew=(2*p-pold)+(c*c*dt*dt*np.transpose(lp))\n",
      "    if np.isnan(pnew).any():\n",
      "        print \"NAN in pnew at it = \", it\n",
      "        #for i in xrange(0, len(pnew)):\n",
      "        #    print \"i, pnew\", i, pnew[i]\n",
      "        exit()\n",
      "\n",
      "    pold=p\n",
      "    p=pnew\n",
      "    # set boundaries 0\n",
      "    p[0]=0\n",
      "    p[nx]=0\n",
      "\n",
      "    # update data for plot\n",
      "    if np.mod(it,10)==0:\n",
      "        line.set_ydata(p)\n",
      "        plt.title('Time step : %g ' %it)\n",
      "        fig.canvas.draw()"
     ],
     "language": "python",
     "metadata": {},
     "outputs": [],
     "prompt_number": 29
    },
    {
     "cell_type": "code",
     "collapsed": false,
     "input": [],
     "language": "python",
     "metadata": {},
     "outputs": []
    }
   ],
   "metadata": {}
  }
 ]
}python
{
 "metadata": {
  "name": "",
  "signature": "sha256:0673673d49bd7483905882dcaae90aab47f981c0c226fda7c37de9906f4911cd"
 },
 "nbformat": 3,
 "nbformat_minor": 0,
 "worksheets": [
  {
   "cells": [
    {
     "cell_type": "code",
     "collapsed": false,
     "input": [
      "import numpy as np\n",
      "\n",
      "import matplotlib.pyplot as plt\n",
      "import matplotlib.backends\n",
      "plt.switch_backend(\"Tkagg\")\n",
      "\n",
      "\n",
      "# 1D wave equation with Chebyshev\n",
      "#$ requires get_cheby_matrix\n",
      "\n",
      "# parameters\n",
      "nx=125;     # space dimension\n",
      "nt=5000;    # time steps\n",
      "c=20.;      # ac. velocity\n",
      "dt=.00001;  # time increment\n",
      "it0=50;     # source time\n",
      "ncheck=50;  # checkpoint\n",
      "idisp=25;   # display frequency\n",
      "ag=.05;     # gaussian in space for source\n",
      "idisp = 30  # display frequency\n",
      "\n",
      "maxdif=-1.0\n",
      "x=np.zeros((nx+1), dtype=np.float)\n",
      "# space coordinates\n",
      "#for ix=0:nx, x(ix+1)=cos(pi*ix/nx);  end\n",
      "for ix in range(0, nx+1):\n",
      "    x[ix]=np.cos(np.pi*ix/nx)\n",
      "    maxdif=max(x[ix],x[ix-1])\n",
      "\n",
      "# Stability\n",
      "#disp(sprintf(' Stability criterium %g (pref. < 0.2) ',c*dt/abs(max(diff(x)))));\n",
      "print \"Stability criterium %g (pref. < 0.2) : \", c*dt/np.fabs(maxdif)"
     ],
     "language": "python",
     "metadata": {},
     "outputs": [
      {
       "output_type": "stream",
       "stream": "stdout",
       "text": [
        "Stability criterium %g (pref. < 0.2) :  0.000200063182097\n"
       ]
      }
     ],
     "prompt_number": 23
    },
    {
     "cell_type": "code",
     "collapsed": false,
     "input": [
      "# Frequenz\n",
      "# source and seismogram\n",
      "s=np.zeros((nt+1), dtype=np.float)\n",
      "seis=np.zeros((nt+1), dtype=np.float)\n",
      "a=input(' Give source frequency (e.g. 1000) (Hz) ')\n",
      "a=1.0/a\n",
      "# ricker wavelet period a\n",
      "t0=4*a/np.pi;\n",
      "\n",
      "for it in range(0, nt):\n",
      "    t=it*dt\n",
      "    v1=np.sqrt(np.pi)/2.0\n",
      "    v2=(1.0/a*np.pi*(t-t0))\n",
      "    v3=(1.0/a*np.pi*(t-t0))\n",
      "    v4=np.exp(-v3*v3)\n",
      "    s[it-1]=v1*v2*v4\n",
      "#    s[it]=np.sqrt(np.pi)/2.0*(1.0/a*np.pi*(t-t0))*np.exp(-(1.0/a*np.pi*(t-t0))^2)\n",
      "s=s/np.max(np.max(s))\n",
      "#s[nt+1]=0"
     ],
     "language": "python",
     "metadata": {},
     "outputs": [
      {
       "name": "stdout",
       "output_type": "stream",
       "stream": "stdout",
       "text": [
        " Give source frequency (e.g. 1000) (Hz) 1000\n"
       ]
      }
     ],
     "prompt_number": 24
    },
    {
     "cell_type": "code",
     "collapsed": false,
     "input": [
      "# initialization of space dependent fields\n",
      "p=np.zeros((nx+1), dtype=np.float)      # pressure\n",
      "lp=np.zeros((nx+1), dtype=np.float)     # pressure 1s derivative\n",
      "lp1=np.zeros((nx+1), dtype=np.float)    # pressure 2nd derivative\n",
      "pold=np.zeros((nx+1), dtype=np.float)   # p at previous time step\n",
      "pnew=np.zeros((nx+1), dtype=np.float)   # p at next time step\n",
      "\n",
      "gauss=np.zeros((nx+1), dtype=np.float)\n",
      "\n",
      "x0=-.25;\n",
      "if ag != 0:\n",
      "    gauss=np.exp(-1/(ag*ag)*(x-x0)*(x-x0))\n",
      "    gauss=gauss.transpose()"
     ],
     "language": "python",
     "metadata": {},
     "outputs": [],
     "prompt_number": 25
    },
    {
     "cell_type": "code",
     "collapsed": false,
     "input": [
      "print \" Begin time extrapolation ... \"\n",
      "\n",
      "# attempt to calculate derivative with Chebyshef\n",
      "# initialize coordinates\n",
      "cx=np.zeros((nx+1), dtype=np.float)\n",
      "dmx=np.zeros(((nx+1)*(nx+1)))\n",
      "dmx=np.arange((nx+1)*(nx+1),dtype=np.float).reshape(nx+1,nx+1)\n",
      "\n",
      "for ix in xrange(0, nx):\n",
      "    x[ix]=np.cos(np.pi*ix/nx)\n",
      "#print x\n",
      "\n",
      "# initialize derivative operators  (nx)\n",
      "cx[0]=2.0;\n",
      "cx[nx]=2.0;\n",
      "\n",
      "for i in xrange(1, nx):\n",
      "    cx[i]=1.0\n",
      "\n",
      "#    print \"cx = \"\n",
      "#    for i in xrange(0, nx+1):\n",
      "#        print \"i, cx[i]\", i, cx[i]\n",
      "\n",
      "# diagonal\n",
      "for i in range(0, nx+1):\n",
      "    for j in range(0, nx+1):\n",
      "        if i==j:\n",
      "            if i!=0:\n",
      "                if i!=nx:\n",
      "                    dmx[i,i]=-x[i]/(2.0*(1.0-x[i]*x[i]));\n",
      "        else:\n",
      "            dmx[i,j]=(cx[i]*np.power(-1,i+j))/(cx[j]*(x[i]-x[j]));\n",
      "\n",
      "    #  corners\n",
      "    dmx[0,0]=(2*nx*nx+1)/6;\n",
      "    dmx[nx,nx]=-dmx[0,0];"
     ],
     "language": "python",
     "metadata": {},
     "outputs": [
      {
       "output_type": "stream",
       "stream": "stdout",
       "text": [
        " Begin time extrapolation ... \n"
       ]
      }
     ],
     "prompt_number": 26
    },
    {
     "cell_type": "code",
     "collapsed": false,
     "input": [
      "fig=plt.figure()\n",
      "\n",
      "plt.subplot(2,2,1)\n",
      "plt.plot(np.arange(0,nt+1,1)/2,s)\n",
      "plt.title('Source time function')\n",
      "\n",
      "plt.subplot(2,2,2)\n",
      "plt.plot(x,gauss)\n",
      "plt.title(' Gauss in space')\n",
      "\n",
      "plt.subplot(2,1,2)\n",
      "plt.ylim(-a/10,a/10)\n",
      "line,=plt.plot(x,p)\n",
      "plt.xlabel('Distance (km)')\n",
      "\n",
      "fig.show()"
     ],
     "language": "python",
     "metadata": {},
     "outputs": [],
     "prompt_number": 27
    },
    {
     "cell_type": "code",
     "collapsed": false,
     "input": [
      "Ddot=np.dot(dmx,dmx)"
     ],
     "language": "python",
     "metadata": {},
     "outputs": [],
     "prompt_number": 28
    },
    {
     "cell_type": "code",
     "collapsed": false,
     "input": [
      "for it in xrange(0, nt):\n",
      "    # loop over time order\n",
      "    # 2nd derivative (D twice operated)\n",
      "    \n",
      "    #lp=D*D*p.transpose()\n",
      "    lp=np.dot(Ddot,np.transpose(p))\n",
      "    \n",
      "    if np.isnan(lp).any():\n",
      "        print \"NAN in lp at it = \", it\n",
      "        for i in xrange(0, len(lp)):\n",
      "            print \"i, lp\", i, lp[i]\n",
      "        exit()\n",
      "    \n",
      "\t# add source\n",
      "    lp=lp+gauss*s[it]\n",
      "    if np.isnan(lp).any():\n",
      "        print \"NAN in lp at it = \", it\n",
      "        #print lp; print gauss; print s\n",
      "        exit()\n",
      "\n",
      "    pnew=(2*p-pold)+(c*c*dt*dt*np.transpose(lp))\n",
      "    if np.isnan(pnew).any():\n",
      "        print \"NAN in pnew at it = \", it\n",
      "        #for i in xrange(0, len(pnew)):\n",
      "        #    print \"i, pnew\", i, pnew[i]\n",
      "        exit()\n",
      "\n",
      "    pold=p\n",
      "    p=pnew\n",
      "    # set boundaries 0\n",
      "    p[0]=0\n",
      "    p[nx]=0\n",
      "\n",
      "    # update data for plot\n",
      "    if np.mod(it,10)==0:\n",
      "        line.set_ydata(p)\n",
      "        plt.title('Time step : %g ' %it)\n",
      "        fig.canvas.draw()"
     ],
     "language": "python",
     "metadata": {},
     "outputs": [],
     "prompt_number": 29
    },
    {
     "cell_type": "code",
     "collapsed": false,
     "input": [],
     "language": "python",
     "metadata": {},
     "outputs": []
    }
   ],
   "metadata": {}
  }
 ]
}
