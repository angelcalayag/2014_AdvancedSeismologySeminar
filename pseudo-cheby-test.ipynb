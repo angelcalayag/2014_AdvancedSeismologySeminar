{
 "metadata": {
  "name": "",
  "signature": "sha256:58e5735d2769ffdf18b056975c21b2ede7072703bcb9a0803fd66bf25b65f050"
 },
 "nbformat": 3,
 "nbformat_minor": 0,
 "worksheets": [
  {
   "cells": [
    {
     "cell_type": "code",
     "collapsed": false,
     "input": [
      "__author__ = 'Angel Calayag and Moritz Wehler'\n",
      "import numpy as np\n",
      "from IPython import display\n",
      "import matplotlib.pyplot as plt\n",
      "import matplotlib.backends\n",
      "plt.switch_backend(\"TkAgg\")\n",
      "\n",
      "# 1D wave equation with Chebyshev\n",
      "# parameters\n",
      "nx=20     # space dimension\n",
      "\n",
      "# initialization of space dependent fields\n",
      "x = np.zeros((nx+1), dtype=np.float)\n",
      "f=np.zeros((nx+1), dtype=np.float)      # x^2\n",
      "\n",
      "# Chebychev collocation points\n",
      "for i in xrange(0, nx+1):\n",
      "    x[i]=np.cos(np.pi*i/(nx))\n",
      "f=x*x\n",
      "\n",
      "print \" Begin time extrapolation ... \"\n",
      "\n",
      "# attempt to calculate derivative with Chebyshev\n",
      "cx = np.ones((nx+1), dtype=np.float)\n",
      "D = np.arange((nx+1)*(nx+1), dtype=np.float).reshape(nx+1, nx+1)\n",
      "dy=np.zeros((nx+1), dtype=np.float)     # 1st derivative of function\n",
      "ddy = np.zeros((nx+1), dtype=np.float)  # 2nd derivative of function\n",
      "\n",
      "# initialize derivative operators(nx)\n",
      "cx[0]=2.0;\n",
      "cx[nx]=2.0;\n",
      "\n",
      "# diagonal\n",
      "for i in range(0, nx+1):\n",
      "    for j in range(0, nx+1):\n",
      "        if i==j:\n",
      "            if i!=0:\n",
      "                if i!=nx:\n",
      "                    D[i,i]=-x[i]/(2.0*(1.0-x[i]*x[i]));\n",
      "        else:\n",
      "            D[i,j]=(cx[i]*np.power(-1,i+j))/(cx[j]*(x[i]-x[j]));\n",
      "    \n",
      "    #  corners\n",
      "    D[0,0]=(2*nx*nx)/6;\n",
      "    D[nx,nx]=-D[0,0];\n",
      "\n",
      "#print D\n",
      "# 1st derivative\n",
      "dy=np.dot(D,f.transpose())\n",
      "#print dy\n",
      "# 2nd derivative (dx twice operated)\n",
      "ddy=np.dot(np.dot(D,D),f.transpose())\n",
      "print ddy\n",
      "\n",
      "plt.figure()\n",
      "plt.subplot(2,1,1)\n",
      "plt.plot(x,f)\n",
      "plt.xlabel('y = x**2')\n",
      "plt.subplot(2,2,3)\n",
      "plt.plot(x, dy)\n",
      "plt.xlabel('dy/dx = 2x')\n",
      "plt.subplot(2,2,4)\n",
      "plt.plot(x, ddy)\n",
      "plt.xlabel('d2y/dx2 = 2')\n",
      "plt.show()"
     ],
     "language": "python",
     "metadata": {},
     "outputs": [
      {
       "output_type": "stream",
       "stream": "stdout",
       "text": [
        " Begin time extrapolation ... \n",
        "[-65.25       -18.43172909   7.23606798  -0.42592      3.4472136    1.\n",
        "   2.76393202   1.37019191   2.5527864    1.48745718   2.5          1.48745718\n",
        "   2.5527864    1.37019191   2.76393202   1.           3.4472136   -0.42592\n",
        "   7.23606798 -18.43172909 -65.25      ]\n"
       ]
      }
     ],
     "prompt_number": 21
    },
    {
     "cell_type": "code",
     "collapsed": false,
     "input": [],
     "language": "python",
     "metadata": {},
     "outputs": []
    }
   ],
   "metadata": {}
  }
 ]
}