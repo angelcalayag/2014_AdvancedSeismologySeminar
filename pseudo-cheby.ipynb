{
 "metadata": {
  "name": "",
  "signature": "sha256:ab18dd545fb9abf1b32778540823300a1a2ccfce5c4672621bd99c3e8d726bef"
 },
 "nbformat": 3,
 "nbformat_minor": 0,
 "worksheets": [
  {
   "cells": [
    {
     "cell_type": "code",
     "collapsed": false,
     "input": [
      "import numpy as np\n",
      "from IPython import display\n",
      "from IPython.core.display import HTML \n",
      "\n",
      "import matplotlib.pyplot as plt\n",
      "import matplotlib.backends\n",
      "plt.switch_backend(\"TkAgg\")\n",
      "\n",
      "# 1D wave equation with Chebyshev\n",
      "#$ requires get_cheby_matrix\n",
      "\n",
      "# parameters\n",
      "nx=125;     # space dimension\n",
      "nt=5000;    # time steps\n",
      "c=20.;      # ac. velocity\n",
      "dt=.00001;  # time increment\n",
      "it0=50;     # source time\n",
      "ncheck=50;  # checkpoint\n",
      "idisp=25;   # display frequency\n",
      "ag=.05;     # gaussian in space for source"
     ],
     "language": "python",
     "metadata": {},
     "outputs": [],
     "prompt_number": 18
    },
    {
     "cell_type": "markdown",
     "metadata": {},
     "source": [
      "The grid points are the quadrature points corresponding to Chebyshev polynomials. \n",
      "We use the discrete Chebyshev-Gauss\u2013Lobatto case given by\n",
      "\n",
      "$$ x_i\\ = -cos\\frac{\\pi{}i}{N} where\\  i\\ = 0, 1, . . . , N $$"
     ]
    },
    {
     "cell_type": "code",
     "collapsed": false,
     "input": [
      "x=np.zeros((nx+1), dtype=np.float)\n",
      "maxd=-10\n",
      "# space coordinates\n",
      "for ix in range(0, nx+1):\n",
      "    x[ix]=np.cos(np.pi*ix/nx)\n",
      "    if ix > 0: \n",
      "        maxd=max(x[ix]-x[ix-1],maxd)        \n",
      "\n",
      "# Stability\n",
      "print 'Stability criterium %(sc)g (pref. < 0.2) ' %{\"sc\": c*dt/np.fabs(maxd)}\n",
      "# Frequency\n",
      "# source and seismogram\n",
      "s=np.zeros((nt+1), dtype=np.float)\n",
      "seis=np.zeros((nt+1), dtype=np.float)\n",
      "a=input(' Give source frequency (e.g. 1000) (Hz) ')\n",
      "a=1.0/a\n",
      "\n",
      "# Ricker wavelet period a\n",
      "t0=4*a/np.pi;\n",
      "for it in range(0, nt):\n",
      "    t=it*dt\n",
      "    v=(1.0/a*np.pi*(t-t0))\n",
      "    s[it-1]=np.sqrt(np.pi)/2.0*(1.0/a*np.pi*(t-t0))*np.exp(-v*v)\n",
      "s=s/np.max(np.max(s))\n",
      "s[nt]=0\n",
      "\n",
      "# initialization of space dependent fields\n",
      "p=np.zeros((nx+1), dtype=np.float)      # pressure\n",
      "lp=np.zeros((nx+1), dtype=np.float)     # pressure 1s derivative\n",
      "lp1=np.zeros((nx+1), dtype=np.float)    # pressure 2nd derivative\n",
      "pold=np.zeros((nx+1), dtype=np.float)   # p at previous time step\n",
      "pnew=np.zeros((nx+1), dtype=np.float)   # p at next time step\n",
      "\n",
      "gauss=np.zeros((nx+1), dtype=np.float)\n",
      "\n",
      "x0=-.25;\n",
      "if ag != 0:\n",
      "    gauss=np.exp(-1/(ag*ag)*(x-x0)*(x-x0))\n",
      "    gauss=gauss.transpose()"
     ],
     "language": "python",
     "metadata": {},
     "outputs": [
      {
       "output_type": "stream",
       "stream": "stdout",
       "text": [
        "Stability criterium 0.633291 (pref. < 0.2) \n"
       ]
      },
      {
       "name": "stdout",
       "output_type": "stream",
       "stream": "stdout",
       "text": [
        " Give source frequency (e.g. 1000) (Hz) 1000\n"
       ]
      }
     ],
     "prompt_number": 19
    },
    {
     "cell_type": "code",
     "collapsed": false,
     "input": [
      "fig=plt.figure()\n",
      "\n",
      "plt.subplot(2,2,1)\n",
      "plt.plot(np.arange(0,nt+1,1)/2,s)\n",
      "plt.title('Source time function')\n",
      "\n",
      "plt.subplot(2,2,2)\n",
      "plt.plot(x,gauss)\n",
      "plt.title(' Gauss in space')\n",
      "\n",
      "plt.subplot(2,1,2)\n",
      "plt.ylim(-a/10,a/10)\n",
      "line,=plt.plot(x,p)\n",
      "plt.xlabel('Distance (km)')\n",
      "\n",
      "fig.show()"
     ],
     "language": "python",
     "metadata": {},
     "outputs": [],
     "prompt_number": 20
    },
    {
     "cell_type": "markdown",
     "metadata": {},
     "source": [
      "The differentiation operator is represented by the matrix $ D_{ij} $.  The approximative derivative at the collocation points can be found by the matrix $ D_{ij} $ multiplying the values of $ x_i $ at the collocation points where the differentiation matrix has the entries\n",
      "$$ D_{ij} = \\frac{2N^2+1}{6} for\\ i\\ = j = 0 $$\n",
      "$$ D_{ij} = -\\frac{2N^2+1}{6} for\\ i\\ = j = N $$\n",
      "$$ D_{ij} = -\\frac{1}{2} \\frac{x_i}{1-x_i^2} for\\ i\\ = j \\ = 1,2,...,N-1 $$\n",
      "$$ D_{ij} = \\frac{c_i}{c_j} \\frac{(-1)^{i+j}}{x_i-x_j} for\\ i \\neq j = 0,1,...,N $$\n",
      "where\n",
      "$$ c_i = \\Big\\{ \n",
      "\\begin{array}{l l}\n",
      "    2 & \\quad \\text{for i=0 or N}\\\\\n",
      "    1 & \\quad \\text{otherwise}\n",
      "  \\end{array} $$\n",
      "  \n",
      "The resulting system of equations for the coefficients is dense. \n",
      "<img src=\"DMatrix.jpg\">\n",
      "Image reference: MIT Open Courseware"
     ]
    },
    {
     "cell_type": "code",
     "collapsed": true,
     "input": [
      "print \" Begin time extrapolation ... \"\n",
      "# attempt to calculate derivative with Chebyshev\n",
      "# initialize coordinates\n",
      "cx=np.ones((nx+1), dtype=np.float)\n",
      "dmx=np.zeros(((nx+1)*(nx+1)))\n",
      "dmx=np.arange((nx+1)*(nx+1),dtype=np.float).reshape(nx+1,nx+1)\n",
      "\n",
      "for ix in xrange(0, nx):\n",
      "    x[ix]=np.cos(np.pi*ix/nx)\n",
      "#print x\n",
      "\n",
      "# initialize derivative operators(nx)\n",
      "for i in xrange(1, nx):\n",
      "    cx[i]=1.0\n",
      "\n",
      "# diagonal\n",
      "for i in range(0, nx+1):\n",
      "    for j in range(0, nx+1):\n",
      "        if i==j:\n",
      "            if i!=0:\n",
      "                if i!=nx:\n",
      "                    dmx[i,i]=-x[i]/(2.0*(1.0-x[i]*x[i]));\n",
      "        else:\n",
      "            dmx[i,j]=(cx[i]*np.power(-1,i+j))/(cx[j]*(x[i]-x[j]));\n",
      "    \n",
      "    #  corners\n",
      "    dmx[0,0]=(2*nx*nx+1)/6;\n",
      "    dmx[nx,nx]=-dmx[0,0];"
     ],
     "language": "python",
     "metadata": {},
     "outputs": [
      {
       "output_type": "stream",
       "stream": "stdout",
       "text": [
        " Begin time extrapolation ... \n"
       ]
      }
     ],
     "prompt_number": 21
    },
    {
     "cell_type": "markdown",
     "metadata": {},
     "source": [
      "Calculation of temporal derivative with 3 point finite differences\n",
      "$$ \\frac{p(x,t+\\mathrm{d}t) - 2 p(x,t) + p(x,t-\\mathrm{d}t)}{\\mathrm{d}t^2} $$\n",
      "\n",
      "and the spatial derivatives $ \\partial_x^2 p(x,t) $ using a matrix-vector multiplication, $ D^2 $"
     ]
    },
    {
     "cell_type": "code",
     "collapsed": false,
     "input": [
      "Ddot=np.dot(dmx,dmx)\n",
      "for it in xrange(0, nt+1):\n",
      "    # loop over time order\n",
      "    # 2nd derivative (D twice operated)\n",
      "    lp=np.dot(Ddot,np.transpose(p))\n",
      "    # add source\n",
      "    lp=lp+gauss*s[it]\n",
      "    # compute new pressure field\n",
      "    pnew=(2*p-pold)+(c*c*dt*dt*np.transpose(lp))\n",
      "    pold=p\n",
      "    p=pnew\n",
      "    # set boundaries 0\n",
      "    p[0]=0\n",
      "    p[nx]=0\n",
      "\n",
      "    if np.mod(it,20)==0:\n",
      "        line.set_ydata(p)\n",
      "        plt.title('Time step : %g ' %it)\n",
      "        fig.canvas.draw()"
     ],
     "language": "python",
     "metadata": {},
     "outputs": [],
     "prompt_number": 23
    },
    {
     "cell_type": "code",
     "collapsed": false,
     "input": [],
     "language": "python",
     "metadata": {},
     "outputs": []
    }
   ],
   "metadata": {}
  }
 ]
}